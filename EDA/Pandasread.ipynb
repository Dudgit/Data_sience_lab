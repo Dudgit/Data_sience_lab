{
 "cells": [
  {
   "cell_type": "markdown",
   "source": [
    "# Preprocess"
   ],
   "metadata": {}
  },
  {
   "cell_type": "markdown",
   "source": [
    "## Libraries"
   ],
   "metadata": {}
  },
  {
   "cell_type": "code",
   "execution_count": 35,
   "source": [
    "import xarray as xr\r\n",
    "import matplotlib.pyplot as plt"
   ],
   "outputs": [],
   "metadata": {}
  },
  {
   "cell_type": "code",
   "execution_count": 38,
   "source": [
    "import sys\r\n",
    "sys.path.append(\"..\")"
   ],
   "outputs": [],
   "metadata": {}
  },
  {
   "cell_type": "code",
   "execution_count": 39,
   "source": [
    "from src.visualization import mpsettings"
   ],
   "outputs": [],
   "metadata": {}
  },
  {
   "cell_type": "markdown",
   "source": [
    "## Varriables"
   ],
   "metadata": {}
  },
  {
   "cell_type": "code",
   "execution_count": 2,
   "source": [
    "filepath =  \"osu_daily_sla_geovel_1993_v2\"\r\n",
    "ds = xr.open_dataset(f'../data/{filepath}.nc')\r\n",
    "df = ds.to_dataframe()"
   ],
   "outputs": [],
   "metadata": {}
  },
  {
   "cell_type": "markdown",
   "source": [
    "# EDA"
   ],
   "metadata": {}
  },
  {
   "cell_type": "markdown",
   "source": [
    "## Data structure"
   ],
   "metadata": {}
  },
  {
   "cell_type": "code",
   "execution_count": 23,
   "source": [
    "df.sample(5)"
   ],
   "outputs": [
    {
     "output_type": "execute_result",
     "data": {
      "text/html": [
       "<div>\n",
       "<style scoped>\n",
       "    .dataframe tbody tr th:only-of-type {\n",
       "        vertical-align: middle;\n",
       "    }\n",
       "\n",
       "    .dataframe tbody tr th {\n",
       "        vertical-align: top;\n",
       "    }\n",
       "\n",
       "    .dataframe thead th {\n",
       "        text-align: right;\n",
       "    }\n",
       "</style>\n",
       "<table border=\"1\" class=\"dataframe\">\n",
       "  <thead>\n",
       "    <tr style=\"text-align: right;\">\n",
       "      <th></th>\n",
       "      <th></th>\n",
       "      <th></th>\n",
       "      <th></th>\n",
       "      <th>lat_bnds</th>\n",
       "      <th>lon_bnds</th>\n",
       "      <th>time_bnds</th>\n",
       "      <th>sea_surface_height_above_sea_level</th>\n",
       "      <th>surface_geostrophic_northward_sea_water_velocity</th>\n",
       "      <th>surface_geostrophic_eastward_sea_water_velocity</th>\n",
       "    </tr>\n",
       "    <tr>\n",
       "      <th>latitude</th>\n",
       "      <th>longitude</th>\n",
       "      <th>time</th>\n",
       "      <th>bnds</th>\n",
       "      <th></th>\n",
       "      <th></th>\n",
       "      <th></th>\n",
       "      <th></th>\n",
       "      <th></th>\n",
       "      <th></th>\n",
       "    </tr>\n",
       "  </thead>\n",
       "  <tbody>\n",
       "    <tr>\n",
       "      <th>36.875</th>\n",
       "      <th>233.375</th>\n",
       "      <th>1993-04-15 12:00:00</th>\n",
       "      <th>0</th>\n",
       "      <td>36.75</td>\n",
       "      <td>233.25</td>\n",
       "      <td>1993-04-15</td>\n",
       "      <td>0.041120</td>\n",
       "      <td>-0.161558</td>\n",
       "      <td>-0.127305</td>\n",
       "    </tr>\n",
       "    <tr>\n",
       "      <th>39.875</th>\n",
       "      <th>246.375</th>\n",
       "      <th>1993-03-15 12:00:00</th>\n",
       "      <th>0</th>\n",
       "      <td>39.75</td>\n",
       "      <td>246.25</td>\n",
       "      <td>1993-03-15</td>\n",
       "      <td>NaN</td>\n",
       "      <td>NaN</td>\n",
       "      <td>NaN</td>\n",
       "    </tr>\n",
       "    <tr>\n",
       "      <th>45.625</th>\n",
       "      <th>237.375</th>\n",
       "      <th>1993-12-25 12:00:00</th>\n",
       "      <th>0</th>\n",
       "      <td>45.50</td>\n",
       "      <td>237.25</td>\n",
       "      <td>1993-12-25</td>\n",
       "      <td>NaN</td>\n",
       "      <td>NaN</td>\n",
       "      <td>NaN</td>\n",
       "    </tr>\n",
       "    <tr>\n",
       "      <th>46.875</th>\n",
       "      <th>230.875</th>\n",
       "      <th>1993-04-08 12:00:00</th>\n",
       "      <th>1</th>\n",
       "      <td>47.00</td>\n",
       "      <td>231.00</td>\n",
       "      <td>1993-04-09</td>\n",
       "      <td>-0.067758</td>\n",
       "      <td>-0.099486</td>\n",
       "      <td>-0.047879</td>\n",
       "    </tr>\n",
       "    <tr>\n",
       "      <th>41.875</th>\n",
       "      <th>229.375</th>\n",
       "      <th>1993-11-05 12:00:00</th>\n",
       "      <th>0</th>\n",
       "      <td>41.75</td>\n",
       "      <td>229.25</td>\n",
       "      <td>1993-11-05</td>\n",
       "      <td>0.070716</td>\n",
       "      <td>0.046941</td>\n",
       "      <td>0.000675</td>\n",
       "    </tr>\n",
       "  </tbody>\n",
       "</table>\n",
       "</div>"
      ],
      "text/plain": [
       "                                             lat_bnds  lon_bnds  time_bnds  \\\n",
       "latitude longitude time                bnds                                  \n",
       "36.875   233.375   1993-04-15 12:00:00 0        36.75    233.25 1993-04-15   \n",
       "39.875   246.375   1993-03-15 12:00:00 0        39.75    246.25 1993-03-15   \n",
       "45.625   237.375   1993-12-25 12:00:00 0        45.50    237.25 1993-12-25   \n",
       "46.875   230.875   1993-04-08 12:00:00 1        47.00    231.00 1993-04-09   \n",
       "41.875   229.375   1993-11-05 12:00:00 0        41.75    229.25 1993-11-05   \n",
       "\n",
       "                                             sea_surface_height_above_sea_level  \\\n",
       "latitude longitude time                bnds                                       \n",
       "36.875   233.375   1993-04-15 12:00:00 0                               0.041120   \n",
       "39.875   246.375   1993-03-15 12:00:00 0                                    NaN   \n",
       "45.625   237.375   1993-12-25 12:00:00 0                                    NaN   \n",
       "46.875   230.875   1993-04-08 12:00:00 1                              -0.067758   \n",
       "41.875   229.375   1993-11-05 12:00:00 0                               0.070716   \n",
       "\n",
       "                                             surface_geostrophic_northward_sea_water_velocity  \\\n",
       "latitude longitude time                bnds                                                     \n",
       "36.875   233.375   1993-04-15 12:00:00 0                                            -0.161558   \n",
       "39.875   246.375   1993-03-15 12:00:00 0                                                  NaN   \n",
       "45.625   237.375   1993-12-25 12:00:00 0                                                  NaN   \n",
       "46.875   230.875   1993-04-08 12:00:00 1                                            -0.099486   \n",
       "41.875   229.375   1993-11-05 12:00:00 0                                             0.046941   \n",
       "\n",
       "                                             surface_geostrophic_eastward_sea_water_velocity  \n",
       "latitude longitude time                bnds                                                   \n",
       "36.875   233.375   1993-04-15 12:00:00 0                                           -0.127305  \n",
       "39.875   246.375   1993-03-15 12:00:00 0                                                 NaN  \n",
       "45.625   237.375   1993-12-25 12:00:00 0                                                 NaN  \n",
       "46.875   230.875   1993-04-08 12:00:00 1                                           -0.047879  \n",
       "41.875   229.375   1993-11-05 12:00:00 0                                            0.000675  "
      ]
     },
     "metadata": {},
     "execution_count": 23
    }
   ],
   "metadata": {}
  },
  {
   "cell_type": "markdown",
   "source": [
    "## Parse into one point"
   ],
   "metadata": {}
  },
  {
   "cell_type": "code",
   "execution_count": 24,
   "source": [
    "samp1 = df.loc[(df.index.get_level_values('latitude') == 32.125) & (df.index.get_level_values('longitude') == 225.125)]"
   ],
   "outputs": [],
   "metadata": {}
  },
  {
   "cell_type": "code",
   "execution_count": 40,
   "source": [
    "plt.plot(samp1.time_bnds,samp1.surface_geostrophic_eastward_sea_water_velocity)"
   ],
   "outputs": [
    {
     "output_type": "execute_result",
     "data": {
      "text/plain": [
       "[<matplotlib.lines.Line2D at 0x2018c4ccf40>]"
      ]
     },
     "metadata": {},
     "execution_count": 40
    },
    {
     "output_type": "display_data",
     "data": {
      "image/png": "[encoded data removed]",
      "text/plain": [
       "<Figure size 576x576 with 1 Axes>"
      ]
     },
     "metadata": {}
    }
   ],
   "metadata": {}
  }
 ],
 "metadata": {
  "orig_nbformat": 4,
  "language_info": {
   "name": "python",
   "version": "3.8.5",
   "mimetype": "text/x-python",
   "codemirror_mode": {
    "name": "ipython",
    "version": 3
   },
   "pygments_lexer": "ipython3",
   "nbconvert_exporter": "python",
   "file_extension": ".py"
  },
  "kernelspec": {
   "name": "python3",
   "display_name": "Python 3.8.5 64-bit ('Eddies': conda)"
  },
  "interpreter": {
   "hash": "c229fbf669a0b0c8a71fb279e3960dbc881dee4af203d5dc8ae76bb0f7f56ccc"
  }
 },
 "nbformat": 4,
 "nbformat_minor": 2
}