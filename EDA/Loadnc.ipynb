{
 "cells": [
  {
   "cell_type": "markdown",
   "source": [
    "# Preprocess"
   ],
   "metadata": {}
  },
  {
   "cell_type": "markdown",
   "source": [
    "## Libraries"
   ],
   "metadata": {}
  },
  {
   "cell_type": "code",
   "execution_count": 14,
   "source": [
    "from termcolor import colored"
   ],
   "outputs": [],
   "metadata": {}
  },
  {
   "cell_type": "code",
   "execution_count": 1,
   "source": [
    "import sys\r\n",
    "sys.path.append(\"..\")"
   ],
   "outputs": [],
   "metadata": {}
  },
  {
   "cell_type": "code",
   "execution_count": 2,
   "source": [
    "from src.loading.loader import loadnc"
   ],
   "outputs": [],
   "metadata": {}
  },
  {
   "cell_type": "markdown",
   "source": [
    "## Varriables"
   ],
   "metadata": {}
  },
  {
   "cell_type": "code",
   "execution_count": 3,
   "source": [
    "filepath =  \"osu_daily_sla_geovel_1993_v2\""
   ],
   "outputs": [],
   "metadata": {}
  },
  {
   "cell_type": "markdown",
   "source": [
    "## Loading"
   ],
   "metadata": {}
  },
  {
   "cell_type": "code",
   "execution_count": 4,
   "source": [
    "ds = loadnc(filepath)"
   ],
   "outputs": [],
   "metadata": {}
  },
  {
   "cell_type": "markdown",
   "source": [
    "# Workprocess"
   ],
   "metadata": {}
  },
  {
   "cell_type": "markdown",
   "source": [
    "## Varriable names"
   ],
   "metadata": {}
  },
  {
   "cell_type": "code",
   "execution_count": 22,
   "source": [
    "\r\n",
    "print(colored(\"The varriable names in the .nc files:\",\"red\"))\r\n",
    "\r\n",
    "for k in ds.variables.keys():\r\n",
    "    print(colored(\"Varriable:\",\"yellow\"),colored(k,\"green\"))"
   ],
   "outputs": [
    {
     "output_type": "stream",
     "name": "stdout",
     "text": [
      "\u001b[31mThe varriable names in the .nc files:\u001b[0m\n",
      "\u001b[33mVarriable:\u001b[0m \u001b[32mlatitude\u001b[0m\n",
      "\u001b[33mVarriable:\u001b[0m \u001b[32mlongitude\u001b[0m\n",
      "\u001b[33mVarriable:\u001b[0m \u001b[32mtime\u001b[0m\n",
      "\u001b[33mVarriable:\u001b[0m \u001b[32mlat_bnds\u001b[0m\n",
      "\u001b[33mVarriable:\u001b[0m \u001b[32mlon_bnds\u001b[0m\n",
      "\u001b[33mVarriable:\u001b[0m \u001b[32mtime_bnds\u001b[0m\n",
      "\u001b[33mVarriable:\u001b[0m \u001b[32msea_surface_height_above_sea_level\u001b[0m\n",
      "\u001b[33mVarriable:\u001b[0m \u001b[32msurface_geostrophic_northward_sea_water_velocity\u001b[0m\n",
      "\u001b[33mVarriable:\u001b[0m \u001b[32msurface_geostrophic_eastward_sea_water_velocity\u001b[0m\n"
     ]
    }
   ],
   "metadata": {}
  },
  {
   "cell_type": "markdown",
   "source": [
    "## Dimensions"
   ],
   "metadata": {}
  },
  {
   "cell_type": "code",
   "execution_count": 20,
   "source": [
    "for dim in ds.dimensions.values():\r\n",
    "    print(dim)"
   ],
   "outputs": [
    {
     "output_type": "stream",
     "name": "stdout",
     "text": [
      "<class 'netCDF4._netCDF4.Dimension'>: name = 'longitude', size = 95\n",
      "<class 'netCDF4._netCDF4.Dimension'>: name = 'latitude', size = 66\n",
      "<class 'netCDF4._netCDF4.Dimension'>: name = 'time', size = 365\n",
      "<class 'netCDF4._netCDF4.Dimension'>: name = 'bnds', size = 2\n"
     ]
    }
   ],
   "metadata": {}
  },
  {
   "cell_type": "code",
   "execution_count": null,
   "source": [],
   "outputs": [],
   "metadata": {}
  },
  {
   "cell_type": "code",
   "execution_count": null,
   "source": [],
   "outputs": [],
   "metadata": {}
  },
  {
   "cell_type": "markdown",
   "source": [],
   "metadata": {}
  }
 ],
 "metadata": {
  "orig_nbformat": 4,
  "language_info": {
   "name": "python",
   "version": "3.8.5",
   "mimetype": "text/x-python",
   "codemirror_mode": {
    "name": "ipython",
    "version": 3
   },
   "pygments_lexer": "ipython3",
   "nbconvert_exporter": "python",
   "file_extension": ".py"
  },
  "kernelspec": {
   "name": "python3",
   "display_name": "Python 3.8.5 64-bit ('Eddies': conda)"
  },
  "interpreter": {
   "hash": "c229fbf669a0b0c8a71fb279e3960dbc881dee4af203d5dc8ae76bb0f7f56ccc"
  }
 },
 "nbformat": 4,
 "nbformat_minor": 2
}