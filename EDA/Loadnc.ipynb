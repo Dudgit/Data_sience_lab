{
 "cells": [
  {
   "cell_type": "markdown",
   "metadata": {},
   "source": [
    "# Preprocess"
   ]
  },
  {
   "cell_type": "markdown",
   "metadata": {},
   "source": [
    "## Libraries"
   ]
  },
  {
   "cell_type": "code",
   "execution_count": 1,
   "metadata": {},
   "outputs": [],
   "source": [
    "from termcolor import colored"
   ]
  },
  {
   "cell_type": "code",
   "execution_count": 2,
   "metadata": {},
   "outputs": [],
   "source": [
    "import sys\n",
    "sys.path.append(\"..\")"
   ]
  },
  {
   "cell_type": "code",
   "execution_count": 3,
   "metadata": {},
   "outputs": [],
   "source": [
    "from src.loading.loader import loadnc"
   ]
  },
  {
   "cell_type": "markdown",
   "metadata": {},
   "source": [
    "## Varriables"
   ]
  },
  {
   "cell_type": "code",
   "execution_count": 8,
   "metadata": {},
   "outputs": [],
   "source": [
    "filepath =  \"1993/dt_global_twosat_phy_l4_19930101_vDT2018\""
   ]
  },
  {
   "cell_type": "markdown",
   "metadata": {},
   "source": [
    "## Loading"
   ]
  },
  {
   "cell_type": "code",
   "execution_count": 9,
   "metadata": {},
   "outputs": [],
   "source": [
    "ds = loadnc(filepath)"
   ]
  },
  {
   "cell_type": "code",
   "execution_count": 11,
   "metadata": {},
   "outputs": [
    {
     "data": {
      "text/plain": [
       "<class 'netCDF4._netCDF4.Dataset'>\n",
       "root group (NETCDF4 data model, file format HDF5):\n",
       "    Conventions: CF-1.6\n",
       "    Metadata_Conventions: Unidata Dataset Discovery v1.0\n",
       "    cdm_data_type: Grid\n",
       "    comment: Sea Surface Height measured by Altimetry and derived variables\n",
       "    contact: http://climate.copernicus.eu/c3s-user-service-desk\n",
       "    creator_email: http://climate.copernicus.eu/c3s-user-service-desk\n",
       "    creator_name: Copernicus Climate Change Service (C3S)\n",
       "    creator_url: http://climate.copernicus.eu\n",
       "    date_created: 2019-01-24T16:52:35Z\n",
       "    date_issued: 2019-01-24T16:52:35Z\n",
       "    date_modified: 2019-01-24T16:52:35Z\n",
       "    geospatial_lat_max: 89.875\n",
       "    geospatial_lat_min: -89.875\n",
       "    geospatial_lat_resolution: 0.25\n",
       "    geospatial_lat_units: degrees_north\n",
       "    geospatial_lon_max: 359.875\n",
       "    geospatial_lon_min: 0.125\n",
       "    geospatial_lon_resolution: 0.25\n",
       "    geospatial_lon_units: degrees_east\n",
       "    geospatial_vertical_max: 0.0\n",
       "    geospatial_vertical_min: 0.0\n",
       "    geospatial_vertical_positive: down\n",
       "    geospatial_vertical_resolution: point\n",
       "    geospatial_vertical_units: m\n",
       "    history: 2019-01-24 16:52:37Z: Creation\n",
       "    institution: CLS, CNES\n",
       "    keywords: Oceans > Ocean Topography > Sea Surface Height\n",
       "    keywords_vocabulary: NetCDF COARDS Climate and Forecast Standard Names\n",
       "    license: http://climate.copernicus.eu/c3s-user-service-desk\n",
       "    platform: ERS-1, Topex/Poseidon,\n",
       "    processing_level: L4\n",
       "    product_version: 2019\n",
       "    project: Copernicus Climate Change Service (C3S)\n",
       "    references: http://climate.copernicus.eu\n",
       "    software_version: 6.2_DUACS_DT2018_baseline\n",
       "    source: Altimetry measurements\n",
       "    ssalto_duacs_comment: The reference mission used for the altimeter inter-calibration processing is Topex/Poseidon between 1993-01-01 and 2002-04-23, Jason-1 between 2002-04-24 and 2008-10-18, OSTM/Jason-2 between 2008-10-19 and 2016-06-25, Jason-3 since 2016-06-25.\n",
       "    standard_name_vocabulary: NetCDF Climate and Forecast (CF) Metadata Convention Standard Name Table v37\n",
       "    summary: SSALTO/DUACS Delayed-Time Level-4 sea surface height and derived variables measured by multi-satellite altimetry observations over Global Ocean.\n",
       "    time_coverage_duration: P1D\n",
       "    time_coverage_end: 1993-01-01T00:00:00Z\n",
       "    time_coverage_resolution: P1D\n",
       "    time_coverage_start: 1993-01-01T00:00:00Z\n",
       "    title: DT merged two satellites Global Ocean Gridded SSALTO/DUACS Sea Surface Height L4 product and derived variables\n",
       "    dimensions(sizes): time(1), latitude(720), longitude(1440), nv(2)\n",
       "    variables(dimensions): int32 crs(), float32 time(time), float32 latitude(latitude), float32 lat_bnds(latitude, nv), float32 longitude(longitude), float32 lon_bnds(longitude, nv), int32 nv(nv), int32 err(time, latitude, longitude), int32 adt(time, latitude, longitude), int32 ugos(time, latitude, longitude), int32 vgos(time, latitude, longitude), int32 sla(time, latitude, longitude), int32 ugosa(time, latitude, longitude), int32 vgosa(time, latitude, longitude)\n",
       "    groups: "
      ]
     },
     "execution_count": 11,
     "metadata": {},
     "output_type": "execute_result"
    }
   ],
   "source": [
    "ds"
   ]
  },
  {
   "cell_type": "markdown",
   "metadata": {},
   "source": [
    "# Workprocess"
   ]
  },
  {
   "cell_type": "markdown",
   "metadata": {},
   "source": [
    "## Varriable names"
   ]
  },
  {
   "cell_type": "code",
   "execution_count": 22,
   "metadata": {},
   "outputs": [
    {
     "name": "stdout",
     "output_type": "stream",
     "text": [
      "\u001b[31mThe varriable names in the .nc files:\u001b[0m\n",
      "\u001b[33mVarriable:\u001b[0m \u001b[32mlatitude\u001b[0m\n",
      "\u001b[33mVarriable:\u001b[0m \u001b[32mlongitude\u001b[0m\n",
      "\u001b[33mVarriable:\u001b[0m \u001b[32mtime\u001b[0m\n",
      "\u001b[33mVarriable:\u001b[0m \u001b[32mlat_bnds\u001b[0m\n",
      "\u001b[33mVarriable:\u001b[0m \u001b[32mlon_bnds\u001b[0m\n",
      "\u001b[33mVarriable:\u001b[0m \u001b[32mtime_bnds\u001b[0m\n",
      "\u001b[33mVarriable:\u001b[0m \u001b[32msea_surface_height_above_sea_level\u001b[0m\n",
      "\u001b[33mVarriable:\u001b[0m \u001b[32msurface_geostrophic_northward_sea_water_velocity\u001b[0m\n",
      "\u001b[33mVarriable:\u001b[0m \u001b[32msurface_geostrophic_eastward_sea_water_velocity\u001b[0m\n"
     ]
    }
   ],
   "source": [
    "\n",
    "print(colored(\"The varriable names in the .nc files:\",\"red\"))\n",
    "\n",
    "for k in ds.variables.keys():\n",
    "    print(colored(\"Varriable:\",\"yellow\"),colored(k,\"green\"))"
   ]
  },
  {
   "cell_type": "markdown",
   "metadata": {},
   "source": [
    "## Dimensions"
   ]
  },
  {
   "cell_type": "code",
   "execution_count": 20,
   "metadata": {},
   "outputs": [
    {
     "name": "stdout",
     "output_type": "stream",
     "text": [
      "<class 'netCDF4._netCDF4.Dimension'>: name = 'longitude', size = 95\n",
      "<class 'netCDF4._netCDF4.Dimension'>: name = 'latitude', size = 66\n",
      "<class 'netCDF4._netCDF4.Dimension'>: name = 'time', size = 365\n",
      "<class 'netCDF4._netCDF4.Dimension'>: name = 'bnds', size = 2\n"
     ]
    }
   ],
   "source": [
    "for dim in ds.dimensions.values():\n",
    "    print(dim)"
   ]
  }
 ],
 "metadata": {
  "interpreter": {
   "hash": "a63f55b57f93e440c3573eccad8a2fdf8f05cf1d6135695975c2afa2f286c6c8"
  },
  "kernelspec": {
   "display_name": "Python 3.8.5 64-bit ('Eddies': conda)",
   "name": "python3"
  },
  "language_info": {
   "codemirror_mode": {
    "name": "ipython",
    "version": 3
   },
   "file_extension": ".py",
   "mimetype": "text/x-python",
   "name": "python",
   "nbconvert_exporter": "python",
   "pygments_lexer": "ipython3",
   "version": "3.8.5"
  },
  "orig_nbformat": 4
 },
 "nbformat": 4,
 "nbformat_minor": 2
}
